{
 "cells": [
  {
   "cell_type": "code",
   "execution_count": 79,
   "metadata": {},
   "outputs": [],
   "source": [
    "import argparse\n",
    "import tensorflow as tf\n",
    "import cv2\n",
    "import pandas as pd\n",
    "import hashlib\n",
    "import sys\n",
    "from pathlib import Path"
   ]
  },
  {
   "cell_type": "code",
   "execution_count": 80,
   "metadata": {},
   "outputs": [],
   "source": [
    "# ----- CONFIGS ----- #\n",
    "# CATEGORY = {'Pedestrian':1, 'Car':2, 'Truck':3, 'Stopsign':4}\n",
    "CATEGORY = {'Stopsign':1}\n",
    "\n",
    "\n",
    "def _int64_feature(value):\n",
    "    return tf.train.Feature(int64_list=tf.train.Int64List(value=[value]))\n",
    "    \n",
    "def _int64_list_feature(value):\n",
    "    return tf.train.Feature(int64_list=tf.train.Int64List(value=value))\n",
    "\n",
    "def _bytes_feature(value):\n",
    "    return tf.train.Feature(bytes_list=tf.train.BytesList(value=[value]))\n",
    "\n",
    "def _bytes_list_feature(value):\n",
    "    return tf.train.Feature(bytes_list=tf.train.BytesList(value=value))\n",
    "\n",
    "def _float_list_feature(value):\n",
    "    return tf.train.Feature(float_list=tf.train.FloatList(value=value))"
   ]
  },
  {
   "cell_type": "code",
   "execution_count": 83,
   "metadata": {},
   "outputs": [
    {
     "ename": "NameError",
     "evalue": "name 'args' is not defined",
     "output_type": "error",
     "traceback": [
      "\u001b[0;31m---------------------------------------------------------------------------\u001b[0m",
      "\u001b[0;31mNameError\u001b[0m                                 Traceback (most recent call last)",
      "\u001b[0;32m<ipython-input-83-76eae1378906>\u001b[0m in \u001b[0;36m<module>\u001b[0;34m()\u001b[0m\n\u001b[1;32m     51\u001b[0m \u001b[0;31m#     csv = pd.read_csv(args.csv_path)\u001b[0m\u001b[0;34m\u001b[0m\u001b[0;34m\u001b[0m\u001b[0m\n\u001b[1;32m     52\u001b[0m \u001b[0;34m\u001b[0m\u001b[0m\n\u001b[0;32m---> 53\u001b[0;31m     \u001b[0;32mwith\u001b[0m \u001b[0mtf\u001b[0m\u001b[0;34m.\u001b[0m\u001b[0mpython_io\u001b[0m\u001b[0;34m.\u001b[0m\u001b[0mTFRecordWriter\u001b[0m\u001b[0;34m(\u001b[0m\u001b[0margs\u001b[0m\u001b[0;34m.\u001b[0m\u001b[0mout_path\u001b[0m\u001b[0;34m)\u001b[0m \u001b[0;32mas\u001b[0m \u001b[0mwriter\u001b[0m\u001b[0;34m:\u001b[0m\u001b[0;34m\u001b[0m\u001b[0m\n\u001b[0m\u001b[1;32m     54\u001b[0m         \u001b[0mgroupby_filename\u001b[0m \u001b[0;34m=\u001b[0m \u001b[0mcsv\u001b[0m\u001b[0;34m.\u001b[0m\u001b[0mgroupby\u001b[0m\u001b[0;34m(\u001b[0m\u001b[0;34m'filename'\u001b[0m\u001b[0;34m)\u001b[0m\u001b[0;34m\u001b[0m\u001b[0m\n\u001b[1;32m     55\u001b[0m         \u001b[0;32mfor\u001b[0m \u001b[0mi\u001b[0m\u001b[0;34m,\u001b[0m \u001b[0;34m(\u001b[0m\u001b[0mfilename\u001b[0m\u001b[0;34m,\u001b[0m \u001b[0mdata\u001b[0m\u001b[0;34m)\u001b[0m \u001b[0;32min\u001b[0m \u001b[0menumerate\u001b[0m\u001b[0;34m(\u001b[0m\u001b[0mgroupby_filename\u001b[0m\u001b[0;34m)\u001b[0m\u001b[0;34m:\u001b[0m\u001b[0;34m\u001b[0m\u001b[0m\n",
      "\u001b[0;31mNameError\u001b[0m: name 'args' is not defined"
     ]
    }
   ],
   "source": [
    "def make_tfexample(img_array, label, category):\n",
    "    '''label is in the following order:\n",
    "        ['filename', ['object', 'object', ...], [xmin, xmin, ...], \n",
    "        [ymin, ymin, ...], [xmax, xmax, ...], [ymax, ymax, ...]]\n",
    "    '''\n",
    "    file_name, obj_names, xmins, ymins, xmaxs, ymaxs = label\n",
    "    img_str        = cv2.imencode('.jpg', img_array)[1].tobytes()\n",
    "    height, width  = img_array.shape[:2]\n",
    "    filename       = bytes(file_name, 'utf-8')\n",
    "    img_format     = b'jpeg'\n",
    "    key            = hashlib.sha256(img_str).hexdigest()\n",
    "    xmins          = [xmin / width for xmin in xmins]\n",
    "    ymins          = [ymin / height for ymin in ymins]\n",
    "    xmaxs          = [xmax / width for xmax in xmaxs]\n",
    "    ymaxs          = [ymax / height for ymax in ymaxs]\n",
    "    classes_text   = [bytes(obj_name, 'utf-8') for obj_name in obj_names]\n",
    "    classes        = [CATEGORY[obj_name] for obj_name in obj_names]\n",
    "\n",
    "    tf_example = tf.train.Example(features=tf.train.Features(feature={\n",
    "        'image/height': _int64_feature(height),\n",
    "        'image/width': _int64_feature(width),\n",
    "        'image/filename': _bytes_feature(filename),\n",
    "        'image/source_id': _bytes_feature(filename),\n",
    "        'image/key/sha256': _bytes_feature(key.encode('utf-8')),\n",
    "        'image/encoded': _bytes_feature(img_str),\n",
    "        'image/format': _bytes_feature(img_format),\n",
    "        'image/object/bbox/xmin': _float_list_feature(xmins),\n",
    "        'image/object/bbox/ymin': _float_list_feature(ymins),\n",
    "        'image/object/bbox/xmax': _float_list_feature(xmaxs),\n",
    "        'image/object/bbox/ymax': _float_list_feature(ymaxs),\n",
    "        'image/object/class/text': _bytes_list_feature(classes_text),\n",
    "        'image/object/class/label': _int64_list_feature(classes)\n",
    "    }))\n",
    "    \n",
    "    return tf_example\n",
    "\n",
    "\n",
    "def stdout_write(message):\n",
    "    sys.stdout.write('\\r')\n",
    "    sys.stdout.write(message)\n",
    "    sys.stdout.flush()\n",
    "    \n",
    "\n",
    "if __name__ == '__main__':\n",
    "    parser = argparse.ArgumentParser()\n",
    "    parser.add_argument('--img_path')\n",
    "    parser.add_argument('--csv_path')\n",
    "    parser.add_argument('--out_path')\n",
    "    args = parser.parse_args()\n",
    "    \n",
    "    csv = pd.read_csv(args.csv_path)\n",
    "    \n",
    "    with tf.python_io.TFRecordWriter(args.out_path) as writer:\n",
    "        groupby_filename = csv.groupby('filename')\n",
    "        for i, (filename, data) in enumerate(groupby_filename):\n",
    "            img = cv2.imread(str(Path(args.img_path, filename)))\n",
    "            img = cv2.cvtColor(img, cv2.COLOR_BGR2RGB)\n",
    "            label = [filename] + [list(a) for a in (data['obj_name'],\n",
    "                                                    data['xmin'], data['ymin'],\n",
    "                                                    data['xmax'], data['ymax'])]\n",
    "            \n",
    "            tf_example = make_tfexample(img, label, CATEGORY)\n",
    "            writer.write(tf_example.SerializeToString())\n",
    "            message = 'Converted {} / {} images&labels to tfrecord'.format(i, len(groupby_filename))\n",
    "            stdout_write(message)\n",
    "    print('\\ndone!')\n"
   ]
  },
  {
   "cell_type": "code",
   "execution_count": 76,
   "metadata": {},
   "outputs": [],
   "source": []
  },
  {
   "cell_type": "code",
   "execution_count": null,
   "metadata": {},
   "outputs": [],
   "source": []
  },
  {
   "cell_type": "code",
   "execution_count": null,
   "metadata": {},
   "outputs": [],
   "source": []
  }
 ],
 "metadata": {
  "kernelspec": {
   "display_name": "Python 3",
   "language": "python",
   "name": "python3"
  },
  "language_info": {
   "codemirror_mode": {
    "name": "ipython",
    "version": 3
   },
   "file_extension": ".py",
   "mimetype": "text/x-python",
   "name": "python",
   "nbconvert_exporter": "python",
   "pygments_lexer": "ipython3",
   "version": "3.6.2"
  }
 },
 "nbformat": 4,
 "nbformat_minor": 2
}
